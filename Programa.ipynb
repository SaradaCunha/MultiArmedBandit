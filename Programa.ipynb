{
 "metadata": {
  "language_info": {
   "codemirror_mode": {
    "name": "ipython",
    "version": 3
   },
   "file_extension": ".py",
   "mimetype": "text/x-python",
   "name": "python",
   "nbconvert_exporter": "python",
   "pygments_lexer": "ipython3",
   "version": "3.8.3-final"
  },
  "orig_nbformat": 2,
  "kernelspec": {
   "name": "python3",
   "display_name": "Python 3"
  }
 },
 "nbformat": 4,
 "nbformat_minor": 2,
 "cells": [
  {
   "cell_type": "code",
   "execution_count": 23,
   "metadata": {},
   "outputs": [],
   "source": [
    "import MAB\n",
    "import numpy as np \n",
    "import matplotlib.pyplot as plt"
   ]
  },
  {
   "cell_type": "code",
   "execution_count": 24,
   "metadata": {},
   "outputs": [],
   "source": [
    "prob=[0.3, 0.7, 0.15, 0.1]\n",
    "maquinas=[MAB.MAB(p) for p in prob]\n",
    "dadosm=[]\n",
    "ganhosm=[]\n",
    "for p in prob:\n",
    "    dadosm.append([])\n",
    "    ganhosm.append([])"
   ]
  },
  {
   "cell_type": "code",
   "execution_count": 25,
   "metadata": {},
   "outputs": [],
   "source": [
    "def experiencia(n_tentativas, maquinas, eps, rand='random'):\n",
    "    #epsilon-greedy\n",
    "    for i in range(n_tentativas):\n",
    "        if np.random.random() < eps: #explore (randomly select an action)\n",
    "            x=np.random.randint(len(maquinas))\n",
    "        else: #exploit (take greedy action)\n",
    "            x = np.argmax([maquinas[i].estimativa_prob for i in range(len(maquinas))])\n",
    "        resultado = maquinas[x].alavanca()\n",
    "        maquinas[x].update(resultado)\n",
    "    for i in range(len(maquinas)):\n",
    "        print(f'A máquina {i} tem probabilidade estimada {maquinas[i].estimativa_prob}')"
   ]
  },
  {
   "cell_type": "code",
   "execution_count": 33,
   "metadata": {},
   "outputs": [
    {
     "output_type": "execute_result",
     "data": {
      "text/plain": [
       "' Fim teste_epsilon_greedy '"
      ]
     },
     "metadata": {},
     "execution_count": 33
    }
   ],
   "source": [
    "def teste_epsilon_greedy(n_tentativas,maquinas,eps):\n",
    "#epsilon-greedy\n",
    "    #selecciona uma máquina\n",
    "    for i in range(n_tentativas):\n",
    "        if np.random.random() < eps:\n",
    "        #explore (randomly select an action)\n",
    "            x=np.random.choice(len(maquinas))\n",
    "        else: #exploit (take greedy action)\n",
    "            x=np.argmax([maquinas[i].estimativa_prob for i in range (len(maquinas))])\n",
    "        #determina se a tentativa teve sucesso                \n",
    "        resultado=maquinas[x].alavanca()\n",
    "        #actualiza o histórico de sucessos da máquina\n",
    "        maquinas[x].update(resultado)\n",
    "\n",
    "        #Recolhe dados para plot\n",
    "        #   Ganhos (nº sucessos) acumulados por máquina \n",
    "        for j in range(len(ganhosm)):    \n",
    "            if len(ganhosm[j])==0:\n",
    "                acumulado=0\n",
    "            else:\n",
    "                acumulado=ganhosm[j][len(ganhosm[j])-1]    \n",
    "            if j== x:\n",
    "                acumulado+=(1*resultado)\n",
    "            ganhosm[j].append(acumulado)\n",
    "        #   Evolução de estimativa_prob, por máquina, em função do num. de tentativas        \n",
    "        for j in range(len(dadosm)):    \n",
    "            dadosm[j].append(maquinas[j].estimativa_prob)\n",
    "                    \n",
    "    print(\"\\n  Após \",n_tentativas,\" tentativas:\")\n",
    "    for i in range(len(maquinas)):\n",
    "        print(\"     A máquina {\", i+1,\"} tem ganhos acumulados de \",ganhosm[i][len(ganhosm[i])-1])\n",
    "\n",
    "        print(\"     A máquina {\", i+1,\"} tem probabilidade estimada \",maquinas[i].estimativa_prob) \n",
    "    plt.title(\"\\nProbabilidade Estimada de cada Máquina p/ Núm. de Tentativas\")\n",
    "    for i in range(len(dadosm)):\n",
    "        plt.plot(dadosm[i],label='máq.'+str(i+1))\n",
    "    plt.legend()\n",
    "    plt.xlabel('Número de tentativas')\n",
    "    plt.ylabel('Probabilidade estimada')\n",
    "    plt.show()\n",
    "\n",
    "    plt.title(\"\\nGanhos Acumulados\")\n",
    "    for i in range(len(ganhosm)):\n",
    "        plt.plot(ganhosm[i],label='máq.'+str(i+1))\n",
    "    plt.legend()\n",
    "    plt.xlabel('Número de tentativas')\n",
    "    plt.ylabel('Ganhos Acumulados')\n",
    "    plt.show()\n",
    "''' Fim teste_epsilon_greedy '''"
   ]
  },
  {
   "cell_type": "code",
   "execution_count": 29,
   "metadata": {},
   "outputs": [
    {
     "output_type": "execute_result",
     "data": {
      "text/plain": [
       "' Fim teste_epsilon_greedy '"
      ]
     },
     "metadata": {},
     "execution_count": 29
    }
   ],
   "source": [
    "def teste_decayed_epsilon_greedy(n_tentativas,maquinas):\n",
    "#epsilon-greedy\n",
    "    for i in range(n_tentativas):\n",
    "        #geração do valor de eps\n",
    "        eps=1/np.log(i+2.00001)\n",
    "        #print(\"i:\",i,\"log:\",np.log(i+2.0001),\" eps:\",eps)\n",
    "        if np.random.random() < eps:\n",
    "        #explore (randomly select an action)\n",
    "            x=np.random.choice(len(maquinas))\n",
    "        else: #exploit (take greedy action)\n",
    "            x=np.argmax([maquinas[i].estimativa_prob for i in range (len(maquinas))])\n",
    "                        \n",
    "        resultado=maquinas[x].alavanca()\n",
    "        maquinas[x].update(resultado)\n",
    "\n",
    "        #Recolhe dados para plot\n",
    "        #   Ganhos (nº sucessos) acumulados por máquina \n",
    "        for j in range(len(ganhosm)):    \n",
    "            if len(ganhosm[j])==0:\n",
    "                acumulado=0\n",
    "            else:\n",
    "                acumulado=ganhosm[j][len(ganhosm[j])-1]    \n",
    "            if j== x:\n",
    "                acumulado+=(1*resultado)\n",
    "            ganhosm[j].append(acumulado)\n",
    "        #   Evolução de estimativa_prob, por máquina, em função do num. de tentativas        \n",
    "        for j in range(len(dadosm)):    \n",
    "            dadosm[j].append(maquinas[j].estimativa_prob)\n",
    "                    \n",
    "    print(\"\\n  Após \",n_tentativas,\" tentativas:\")\n",
    "    for i in range(len(maquinas)):\n",
    "        print(\"     A máquina {\", i+1,\"} tem ganhos acumulados de \",ganhosm[i][len(ganhosm[i])-1])\n",
    "\n",
    "        print(\"     A máquina {\", i+1,\"} tem probabilidade estimada \",maquinas[i].estimativa_prob) \n",
    "    plt.title(\"\\nProbabilidade Estimada de cada Máquina p/ Núm. de Tentativas\")\n",
    "    for i in range(len(dadosm)):\n",
    "        plt.plot(dadosm[i],label='máq.'+str(i+1))\n",
    "    plt.legend()\n",
    "    plt.xlabel('Número de tentativas')\n",
    "    plt.ylabel('Probabilidade estimada')\n",
    "    plt.show()\n",
    "\n",
    "    plt.title(\"\\nGanhos Acumulados\")\n",
    "    for i in range(len(ganhosm)):\n",
    "        plt.plot(ganhosm[i],label='máq.'+str(i+1))\n",
    "    plt.legend()\n",
    "    plt.xlabel('Número de tentativas')\n",
    "    plt.ylabel('Ganhos Acumulados')\n",
    "    plt.show()\n",
    "''' Fim teste_decayed_epsilon_greedy '''"
   ]
  },
  {
   "cell_type": "code",
   "execution_count": 34,
   "metadata": {},
   "outputs": [],
   "source": [
    "def menu():\n",
    "  print(\"\\nMulti-Armed Bandit - Teste de funçóes tipo Greedy\")\n",
    "  opcao=0\n",
    "  valid=False\n",
    "  while (not valid):\n",
    "    print(\"\\n\\nPor favor seleccione uma opção:\")\n",
    "    print(\"   [1] - Greedy puro\")\n",
    "    print(\"   [2] - Epsilon Greedy\")\n",
    "    print(\"   [3] - Decayed Epsilon Greedy\")\n",
    "    print(\"   [4] - Saida\")\n",
    "    temp=input(\"             Opção:\")\n",
    "    if temp.isnumeric():\n",
    "      opcao=int(temp)\n",
    "      if opcao in range (1,5):\n",
    "        valid=True\n",
    "      else:\n",
    "        print(\"\\n   Opção inválida!Tente novamente por favor.\") \n",
    "    else:\n",
    "      print(\"\\n   Opção inválida!Tente novamente por favor.\")      \n",
    "  return opcao"
   ]
  },
  {
   "cell_type": "code",
   "execution_count": 31,
   "metadata": {},
   "outputs": [],
   "source": [
    "def call_pure_greedy():\n",
    "  print(\"\\nTeste Greedy Puro:\" )\n",
    "  print(\"Por favor digite:\")    \n",
    "  nt=int(input(\"  Numero de Tentativas: \"))\n",
    "  teste_epsilon_greedy(nt,maquinas,-1)\n",
    "\n",
    "def call_epsilon_greedy():\n",
    "  print(\"\\nTeste Epsilon Greedy:\" )\n",
    "  print(\"Por favor digite:\")    \n",
    "  nt=int(input(\"  Numero de Tentativas: \"))\n",
    "  eps=float(input(\"  Valor de Epsilon: \"))\n",
    "  teste_epsilon_greedy(nt,maquinas,eps)\n",
    "\n",
    "def call_decayed_greedy():\n",
    "  print(\"\\nTeste Decayed Epsilon Greedy:\" )\n",
    "  print(\"Por favor digite:\")    \n",
    "  nt=int(input(\"  Numero de Tentativas: \"))\n",
    "  teste_decayed_epsilon_greedy(nt,maquinas)"
   ]
  },
  {
   "cell_type": "code",
   "execution_count": 32,
   "metadata": {},
   "outputs": [
    {
     "output_type": "stream",
     "name": "stdout",
     "text": [
      "\n",
      "Multi-Armed Bandit - Teste de funçóes tipo Greedy\n",
      "\n",
      "\n",
      "Por favor seleccione uma opção:\n",
      "   [1] - Greedy puro\n",
      "   [2] - Epsilon Greedy\n",
      "   [3] - Decayed Epsilon Greedy\n",
      "   [4] - Saida\n",
      "\n",
      "A sair do programa...\n"
     ]
    }
   ],
   "source": [
    "def call_saida():\n",
    "  print(\"\\nA sair do programa...\")\n",
    "\n",
    "op=0\n",
    "switcher={\n",
    "  1: call_pure_greedy,\n",
    "  2: call_epsilon_greedy,\n",
    "  3: call_decayed_greedy,\n",
    "  4: call_saida\n",
    "}\n",
    "\n",
    "while op!=4:\n",
    "  op=menu()\n",
    "  # Get the function from switcher dictionary\n",
    "  func = switcher.get(op, lambda: print (\"Erro - Opção Inválida!\"))\n",
    "  # Execute the function\n",
    "  func()"
   ]
  }
 ]
}